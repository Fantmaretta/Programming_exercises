{
 "cells": [
  {
   "cell_type": "code",
   "execution_count": 1,
   "metadata": {
    "nbsphinx": "hidden"
   },
   "outputs": [],
   "source": [
    "#Please execute this cell\n",
    "import jupman;"
   ]
  },
  {
   "cell_type": "markdown",
   "metadata": {},
   "source": [
    "# Exam -  Mon 06, Sep 2021 EXERCISES\n",
    "\n",
    "**Scientific Programming - Data Science Master @ University of Trento**\n",
    "\n",
    "## [Download exercises and solutions](_static/generated/sciprog-ds-2021-09-06-exam.zip)"
   ]
  },
  {
   "cell_type": "markdown",
   "metadata": {},
   "source": [
    "## Part A - I CHING Divination\n",
    "\n",
    "Open Jupyter and start editing this notebook `exam-2021-09-06.ipynb`\n",
    "\n",
    "\n",
    "The I Ching, or Book of Changes, is a chinese divination manual and philosophical text  which is believed to be one of the world's oldest books, dating from over 3,000 years ago. \n",
    "\n",
    "The great mathematician Gottfried Wilhelm Leibniz (1646 - 1716) is considered the first information theorist, and extensively documented the binary numeral system. Leibniz was also interested in Chinese culture, and [saw in the I Ching diagrams](https://en.wikipedia.org/wiki/Gottfried_Wilhelm_Leibniz#Sinophile) showing solid and broken lines called yin and yang, which progressed in a sequence: that was unmistakably a binary encoding. \n",
    "\n",
    "You will parse a dataset of hexagrams and develop a divinator software which will predict the outcome of your exam.\n",
    "\n",
    "Data source: [Wikipedia, July 2021, Bagua page](https://en.wikipedia.org/wiki/Bagua)"
   ]
  },
  {
   "cell_type": "markdown",
   "metadata": {},
   "source": [
    "**Yin and yang**: Yin and yang are represented by lines: \n",
    "\n",
    "|name|line|bit|\n",
    "|----|-----|---|\n",
    "|yin |`- -`| 0 |\n",
    "|yang|`---`| 1 |"
   ]
  },
  {
   "cell_type": "markdown",
   "metadata": {},
   "source": [
    "**Trigrams**: Different constructions of three yin and yang lines lead to 8 trigrams. We can express a trigram as a sequence of bits, reading lines from bottom to top. For example _Fire_ is `101`, _Thunder_ is `100`.\n",
    "\n",
    "![iching-lookup-table-header.png](img/iching-lookup-table-header.png)"
   ]
  },
  {
   "cell_type": "markdown",
   "metadata": {},
   "source": [
    "**Hexagrams**: Combining a lower trigram with an upper trigram leads to 64 hexagrams. Each hexagram can be represented as a sequence of bits and the outcome of a divination. For example trigrams _Fire_ (lower) and _Thunder_ (upper) gives outcome hexagram _Abounding_: `101100`"
   ]
  },
  {
   "cell_type": "markdown",
   "metadata": {},
   "source": [
    "![iching-lookup-table.png](img/iching-lookup-table.png)"
   ]
  },
  {
   "cell_type": "markdown",
   "metadata": {},
   "source": [
    "## A1 load_db\n",
    "\n",
    "Parse [iching.csv](iching.csv) and output a dictionary mapping each sequence to a dictionary with all the information you can extract. Use CSV reader.\n",
    "\n",
    "- in headers and first column you will find a bit sequence like `011`\n",
    "- in body cells, you will **not** find a bit sequence: you will have to determine it according to the corresponding tri-sequences from the header and first column\n",
    "- note for hexagrams you must extract **only** `name-en`, ignore the decimal numbers\n",
    "- complete expected output is in file [expected_iching_db.py](expected_iching_db.py)"
   ]
  },
  {
   "cell_type": "code",
   "execution_count": 148,
   "metadata": {
    "scrolled": false
   },
   "outputs": [
    {
     "data": {
      "text/plain": [
       "{'111': {'name-ch': '乾', 'name-en': 'Heaven', 'spelling': 'Qián'},\n",
       " '111111': {'name-en': 'Force'},\n",
       " '000111': {'name-en': 'Obstruction'},\n",
       " '100111': {'name-en': 'Innocence'},\n",
       " '010111': {'name-en': 'Arguing'},\n",
       " '001111': {'name-en': 'Retiring'},\n",
       " '011111': {'name-en': 'Coupling'},\n",
       " '101111': {'name-en': 'Concording People'},\n",
       " '110111': {'name-en': 'Treading'},\n",
       " '000': {'name-ch': '坤', 'name-en': 'Earth', 'spelling': 'Kūn'},\n",
       " '111000': {'name-en': 'Pervading'},\n",
       " '000000': {'name-en': 'Field'},\n",
       " '100000': {'name-en': 'Returning'},\n",
       " '010000': {'name-en': 'Leading'},\n",
       " '001000': {'name-en': 'Humbling'},\n",
       " '011000': {'name-en': 'Ascending'},\n",
       " '101000': {'name-en': 'Intelligence Hidden'},\n",
       " '110000': {'name-en': 'Nearing'},\n",
       " '100': {'name-ch': '震', 'name-en': 'Thunder', 'spelling': 'Zhèn'},\n",
       " '111100': {'name-en': 'Great Invigorating'},\n",
       " '000100': {'name-en': 'Providing For'},\n",
       " '100100': {'name-en': 'Shake'},\n",
       " '010100': {'name-en': 'Deliverance'},\n",
       " '001100': {'name-en': 'Small Exceeding'},\n",
       " '011100': {'name-en': 'Persevering'},\n",
       " '101100': {'name-en': 'Abounding'},\n",
       " '110100': {'name-en': 'Converting the Maiden'},\n",
       " '010': {'name-ch': '坎', 'name-en': 'Water', 'spelling': 'Kǎn'},\n",
       " '111010': {'name-en': 'Attending'},\n",
       " '000010': {'name-en': 'Grouping'},\n",
       " '100010': {'name-en': 'Sprouting'},\n",
       " '010010': {'name-en': 'Gorge'},\n",
       " '001010': {'name-en': 'Limping'},\n",
       " '011010': {'name-en': 'Welling'},\n",
       " '101010': {'name-en': 'Already Fording'},\n",
       " '110010': {'name-en': 'Articulating'},\n",
       " '001': {'name-ch': '艮', 'name-en': 'Mountain', 'spelling': 'Gèn'},\n",
       " '111001': {'name-en': 'Great Accumulating'},\n",
       " '000001': {'name-en': 'Stripping'},\n",
       " '100001': {'name-en': 'Swallowing'},\n",
       " '010001': {'name-en': 'Enveloping'},\n",
       " '001001': {'name-en': 'Bound'},\n",
       " '011001': {'name-en': 'Correcting'},\n",
       " '101001': {'name-en': 'Adorning'},\n",
       " '110001': {'name-en': 'Diminishing'},\n",
       " '011': {'name-ch': '巽', 'name-en': 'Air', 'spelling': 'Xùn'},\n",
       " '111011': {'name-en': 'Small Harvest'},\n",
       " '000011': {'name-en': 'Viewing'},\n",
       " '100011': {'name-en': 'Augmenting'},\n",
       " '010011': {'name-en': 'Dispersing'},\n",
       " '001011': {'name-en': 'Infiltrating'},\n",
       " '011011': {'name-en': 'Ground'},\n",
       " '101011': {'name-en': 'Dwelling People'},\n",
       " '110011': {'name-en': 'Inner Truth'},\n",
       " '101': {'name-ch': '離', 'name-en': 'Fire', 'spelling': 'Lí'},\n",
       " '111101': {'name-en': 'Great Possessing'},\n",
       " '000101': {'name-en': 'Prospering'},\n",
       " '100101': {'name-en': 'Gnawing Bite'},\n",
       " '010101': {'name-en': 'Before Completion'},\n",
       " '001101': {'name-en': 'Sojourning'},\n",
       " '011101': {'name-en': 'Holding'},\n",
       " '101101': {'name-en': 'Radiance'},\n",
       " '110101': {'name-en': 'Polarising'},\n",
       " '110': {'name-ch': '兌', 'name-en': 'Lake', 'spelling': 'Duì'},\n",
       " '111110': {'name-en': 'Displacement'},\n",
       " '000110': {'name-en': 'Clustering'},\n",
       " '100110': {'name-en': 'Following'},\n",
       " '010110': {'name-en': 'Confining'},\n",
       " '001110': {'name-en': 'Conjoining'},\n",
       " '011110': {'name-en': 'Great Exceeding'},\n",
       " '101110': {'name-en': 'Skinning'},\n",
       " '110110': {'name-en': 'Open'}}"
      ]
     },
     "execution_count": 148,
     "metadata": {},
     "output_type": "execute_result"
    }
   ],
   "source": [
    "import csv\n",
    "\n",
    "def load_db(filepath):\n",
    "    with open(filepath, encoding='utf-8', newline='') as f:\n",
    "        dizionario={}\n",
    "        matrice=[]\n",
    "        listone=[]\n",
    "        my_reader=csv.reader(f, delimiter=',')\n",
    "        lista_codici=[]\n",
    "        codici=[]\n",
    "        for r in my_reader:\n",
    "            lista_codici.append(r[0])     \n",
    "            row=r[1:]\n",
    "            matrice.append(row) #creo una matrice, su cui itero nelle colonne\n",
    "        \n",
    "        #estraggo la lista con le chiavi\n",
    "\n",
    "        lista_codici=lista_codici[1:]\n",
    "        for el in lista_codici:\n",
    "            codice=el.split('\\n')[1]\n",
    "            codici.append(codice)\n",
    "        #print(codici)\n",
    "            \n",
    "       \n",
    "\n",
    "            \n",
    "        \n",
    "        \n",
    "        j=0\n",
    "        while j<len(row): #estraggo le colonne\n",
    "            ret=[]\n",
    "            for row in matrice:\n",
    "                ret.append(row[j])\n",
    "            listone.append(ret)\n",
    "            j+=1\n",
    "        #print(listone)\n",
    "        \n",
    "       \n",
    "            \n",
    "        for l in listone:\n",
    "            count=0\n",
    "            for riga in l:\n",
    "                diz={}\n",
    "                riga=riga.split('\\n')\n",
    "                lista=[el for el in riga if el!=' ' and el!='']\n",
    "                if len(lista)>2:\n",
    "                    #print(lista)\n",
    "                    lst_nome=lista[0].split('\\xa0')\n",
    "                    #print(lst_nome)\n",
    "                    simbolo=lst_nome[0]\n",
    "                    ch_name=lst_nome[1]\n",
    "                    key_1=lista[1]\n",
    "                    #da inserire nel dizionario grande\n",
    "                    en_name=lista[-1]\n",
    "                    diz['name-ch']=simbolo\n",
    "                    diz['name-en']=en_name\n",
    "                    diz['spelling']=ch_name\n",
    "                    #ret[key_initial]=diz\n",
    "                    key=key_1\n",
    "                else:\n",
    "                    key= codici[count]+ key_1\n",
    "                    #da inserire nel dizionario grande\n",
    "                    #print(key)\n",
    "                    name_en=lista[1]\n",
    "                    diz['name-en']=name_en\n",
    "                    count+=1\n",
    "                dizionario[key]=diz\n",
    "        #print(dizionario)\n",
    "        return dizionario\n",
    "                  \n",
    "                \n",
    "            \n",
    "            \n",
    "                \n",
    "        \n",
    "        \n",
    "\n",
    "iching_db = load_db('iching.csv')   \n",
    "iching_db\n"
   ]
  },
  {
   "cell_type": "code",
   "execution_count": null,
   "metadata": {},
   "outputs": [],
   "source": []
  },
  {
   "cell_type": "code",
   "execution_count": 3,
   "metadata": {},
   "outputs": [
    {
     "name": "stdout",
     "output_type": "stream",
     "text": [
      "EXERPT:\n",
      "\n",
      "{'111': {'name-en': 'Heaven', 'name-ch': '乾', 'spelling': 'Qián'}\n",
      " '000': {'name-en': 'Earth', 'name-ch': '坤', 'spelling': 'Kūn'}\n",
      " '100': {'name-en': 'Thunder', 'name-ch': '震', 'spelling': 'Zhèn'}\n",
      " '010': {'name-en': 'Water', 'name-ch': '坎', 'spelling': 'Kǎn'}\n",
      " '001': {'name-en': 'Mountain', 'name-ch': '艮', 'spelling': 'Gèn'}\n",
      " '011': {'name-en': 'Air', 'name-ch': '巽', 'spelling': 'Xùn'}\n",
      " '101': {'name-en': 'Fire', 'name-ch': '離', 'spelling': 'Lí'}\n",
      " '110': {'name-en': 'Lake', 'name-ch': '兌', 'spelling': 'Duì'}\n",
      " '111111': {'name-en': 'Force'}\n",
      " '111000': {'name-en': 'Pervading'}\n",
      " '111100': {'name-en': 'Great Invigorating'}\n",
      " '111010': {'name-en': 'Attending'}\n",
      " '111001': {'name-en': 'Great Accumulating'}\n",
      " '111011': {'name-en': 'Small Harvest'}\n",
      " '111101': {'name-en': 'Great Possessing'}\n",
      "     .\n",
      "     .\n",
      "}\n"
     ]
    }
   ],
   "source": []
  },
  {
   "cell_type": "code",
   "execution_count": 171,
   "metadata": {},
   "outputs": [],
   "source": [
    "# EXECUTE FOR TESTING\n",
    "from pprint import pformat; from expected_iching_db import expected_iching_db\n",
    "for seq in expected_iching_db.keys():\n",
    "    if seq not in iching_db: print('\\nERROR: MISSING sequence', seq); break    \n",
    "    for k in expected_iching_db[seq]:\n",
    "        if k not in iching_db[seq]:\n",
    "            print('\\nERROR at sequence', seq,'\\n\\n   MISSING key:', k); break    \n",
    "        if expected_iching_db[seq][k] != iching_db[seq][k]:\n",
    "            print('\\nERROR at sequence', seq, 'key:',k)\n",
    "            print('  ACTUAL:\\n', pformat(iching_db[seq][k]))\n",
    "            print('  EXPECTED:\\n', pformat(expected_iching_db[seq][k]))\n",
    "            break"
   ]
  },
  {
   "cell_type": "markdown",
   "metadata": {},
   "source": [
    "## A2 divine\n",
    "\n",
    "A divination is done by flipping 3 coins to determine the bottom trigram (**bottom up order**), flipping other three coins for the upper trigram (again **bottom up order**), and then the union gives the resulting hexagram. Write a function that PRINTS the process as in the example and RETURNS a string of bits representing the resulting hexagram\n",
    "\n",
    "**HINT**: to flip coins use `random.randint(0,1)`\n",
    "\n",
    "\n",
    "<div class=\"alert alert-warning\">\n",
    "    \n",
    "**WARNING: DOUBLE CHECK THE ORDER IN WHICH LINES ARE VISUALIZED!**    \n",
    "    \n",
    "</div>    "
   ]
  },
  {
   "cell_type": "code",
   "execution_count": 172,
   "metadata": {},
   "outputs": [
    {
     "name": "stdout",
     "output_type": "stream",
     "text": [
      "\n",
      "Dear stranger, welcome to SCIPROG I CHING 易經 DIVINATOR\n",
      "\n",
      "Tell me your question...\n",
      "\n",
      "        Will I pass the exam?\n",
      "\n",
      "The coin says heads : we get a yang ---\n",
      "The coin says tails: we get a  yin - -\n",
      "The coin says heads : we get a yang ---\n",
      "The sacred bottom trigram is:\n",
      "   \n",
      "Fire\n",
      "---\n",
      "- -\n",
      "---\n",
      " \n",
      "The coin says heads : we get a yang ---\n",
      "The coin says tails: we get a  yin - -\n",
      "The coin says tails: we get a  yin - -\n",
      "The sacred bottom trigram is:\n",
      "   \n",
      "Thunder\n",
      "---\n",
      "- -\n",
      "- -\n",
      "The final response hexagram is...\n",
      "Abounding\n",
      "---\n",
      "- -\n",
      "---\n",
      "---\n",
      "- -\n",
      "- -\n",
      "\n",
      "Returned: Abounding\n"
     ]
    }
   ],
   "source": [
    "import random\n",
    "\n",
    "def divine(iching, question):\n",
    "    \n",
    "    #THE SEED DETERMINES FOLLOWING randint RESULTS\n",
    "    random.seed(109)      # Abounding\n",
    "                          # Thunder  \n",
    "                          # Fire\n",
    "    \n",
    "    #IMPORTANT: try also this seed to check lines visualization order\n",
    "    #random.seed(1)                                  \n",
    "    #\n",
    "    # Infiltrating 001011\n",
    "    # Mountain ---\n",
    "    #          ---\n",
    "    #          - -\n",
    "    # Air      ---\n",
    "    #          - -\n",
    "    #          - -            \n",
    "    \n",
    "    print()\n",
    "    print(\"Dear stranger, welcome to SCIPROG I CHING 易經 DIVINATOR\")\n",
    "    print()\n",
    "    print(\"Tell me your question...\")\n",
    "    print()    \n",
    "    print('       ', question)\n",
    "    print()\n",
    "    \n",
    "    \n",
    "    ret_1=[]\n",
    "    disegno_1=[]\n",
    "    ret_2=[]\n",
    "    disegno_2=[]\n",
    "    ret=[]\n",
    "    disegno=[]\n",
    "    \n",
    "    for i in range(3):\n",
    "        coin=random.randint(0,1)\n",
    "        ret_1.append(str(coin))\n",
    "    code=''.join(ret_1)\n",
    "    name=iching[code]['name-en']\n",
    "    \n",
    "    for el in ret_1:\n",
    "        if el=='1':\n",
    "            dis_1='---'\n",
    "            disegno_1.append(dis_1)\n",
    "            print('The coin says heads : we get a yang ---')\n",
    "        else:\n",
    "            dis='- -'\n",
    "            disegno_1.append(dis)\n",
    "            print('The coin says tails: we get a  yin - -')\n",
    "    print('The sacred bottom trigram is:')\n",
    "    print('   ')\n",
    "    print(name)\n",
    "    for el in disegno_1:\n",
    "        print(el)\n",
    "    \n",
    "    print(' ')\n",
    "    \n",
    "    for i in range(3):\n",
    "        coin=random.randint(0,1)\n",
    "        ret_2.append(str(coin))\n",
    "    code=''.join(ret_2)\n",
    "    name=iching[code]['name-en']\n",
    "    \n",
    "    for el in ret_2:\n",
    "        if el=='1':\n",
    "            dis_1='---'\n",
    "            disegno_2.append(dis_1)\n",
    "            print('The coin says heads : we get a yang ---')\n",
    "        else:\n",
    "            dis='- -'\n",
    "            disegno_2.append(dis)\n",
    "            print('The coin says tails: we get a  yin - -')\n",
    "    print('The sacred bottom trigram is:')\n",
    "    print('   ')\n",
    "    print(name)\n",
    "    for el in disegno_2:\n",
    "        print(el)\n",
    "    print('The final response hexagram is...')\n",
    "    ret.extend(ret_1)\n",
    "    ret.extend(ret_2)\n",
    "    disegno.extend(disegno_1)\n",
    "    disegno.extend(disegno_2)\n",
    "    \n",
    "    #print(ret)\n",
    "    code=''.join(ret)\n",
    "    name=iching[code]['name-en']\n",
    "    \n",
    "    print(name)\n",
    "    for el in disegno:\n",
    "        print(el)\n",
    "    return name\n",
    "    \n",
    "    \n",
    "    \n",
    "            \n",
    "\n",
    "\n",
    "divination = divine(iching_db, \"Will I pass the exam?\")\n",
    "print(\"\\nReturned:\", divination)"
   ]
  },
  {
   "cell_type": "code",
   "execution_count": null,
   "metadata": {},
   "outputs": [],
   "source": []
  },
  {
   "cell_type": "markdown",
   "metadata": {},
   "source": [
    "## A3 plot_divination\n",
    "\n",
    "Given a divination as a string of bits, plot the divination. \n",
    "\n",
    "* first draw the lines, then the rest if you have time. \n",
    "* make it fancy with these [examples](https://en.softpython.org/visualization/visualization-sol.html#Fancy-plots)\n",
    "* to center text you can use these parameters: `ha='center', va='center'`"
   ]
  },
  {
   "cell_type": "code",
   "execution_count": 219,
   "metadata": {},
   "outputs": [
    {
     "data": {
      "image/png": "[encoded data removed]",
      "text/plain": [
       "<Figure size 1440x720 with 1 Axes>"
      ]
     },
     "metadata": {
      "needs_background": "light"
     },
     "output_type": "display_data"
    }
   ],
   "source": [
    "%matplotlib inline\n",
    "import matplotlib.pyplot as plt\n",
    "\n",
    "def plot_divination(iching, question, divination):\n",
    "    \n",
    "    r_1=iching[divination[:(len(divination)//2)]]['name-en']\n",
    "    r_2=iching[divination[((len(divination)//2)):]]['name-en']\n",
    "    #print(r_1)\n",
    "    #print(r_2)\n",
    "    \n",
    "    result=iching[divination]['name-en']\n",
    "    \n",
    "    fig = plt.figure(figsize=(20,10))\n",
    "    plt.text(400, 110, question,fontsize=40, fontweight='bold',color=\"lightblue\",\n",
    "             ha='center', # centers text horizontally\n",
    "             va='center')\n",
    "    \n",
    "    plt.text(400, 90, result,fontsize=40, fontweight='bold',color=\"orange\",\n",
    "             ha='center', # centers text horizontally\n",
    "             va='center')\n",
    "    plt.text(100, 60, r_2,fontsize=40, fontweight='bold',color=\"lightgrey\",\n",
    "             ha='center', # centers text horizontally\n",
    "             va='center')\n",
    "    plt.text(100, 25, r_1,fontsize=40, fontweight='bold',color=\"lightgrey\",\n",
    "             ha='center', # centers text horizontally\n",
    "             va='center')\n",
    "\n",
    "    y=20\n",
    "    for el in divination:\n",
    "        if el=='1':\n",
    "            ys=[y,y]\n",
    "            xs=[250, 550]\n",
    "            plt.plot(xs,ys, color='black', linewidth=30)\n",
    "        elif el=='0':\n",
    "            ys=[y,y]\n",
    "            xs_1=[250, 350]\n",
    "            xs_2=[450,550]\n",
    "            plt.plot(xs_1,ys, color='black',linewidth=30)\n",
    "            plt.plot(xs_2,ys, color='black',linewidth=30)\n",
    "        y+=10\n",
    "   # y_ticks=[0 for el in ys ]\n",
    "    #plt.yticks(y_ticks,y_ticks)\n",
    "    plt.xlim(0,700) # important to set when you add images\n",
    "    plt.ylim(0,130)\n",
    "    plt.show()\n",
    "        \n",
    "    \n",
    "            \n",
    "    \n",
    "    \n",
    "    \n",
    "plot_divination(iching_db, \"Will I pass Sciprog exam?\", '101100')  # Abounding\n",
    "#plot_divination(iching_db, \"Will I pass Sciprog exam?\", '111011') # Small Harvest\n",
    "#plot_divination(iching_db, \"Will I pass Sciprog exam?\",'001011')  # Infiltrating"
   ]
  },
  {
   "cell_type": "code",
   "execution_count": null,
   "metadata": {},
   "outputs": [],
   "source": [
    "help(bar)"
   ]
  },
  {
   "cell_type": "code",
   "execution_count": 6,
   "metadata": {
    "scrolled": false
   },
   "outputs": [
    {
     "data": {
      "image/png": "[encoded data removed]",
      "text/plain": [
       "<Figure size 720x360 with 1 Axes>"
      ]
     },
     "metadata": {
      "needs_background": "light"
     },
     "output_type": "display_data"
    }
   ],
   "source": [
    "%matplotlib inline\n",
    "import matplotlib.pyplot as plt\n",
    "\n",
    "def plot_divination(iching, question, divination):\n",
    "    raise Exception('TODO IMPLEMENT ME !')\n",
    "    \n",
    "plot_divination(iching_db, \"Will I pass Sciprog exam?\", '101100')  # Abounding\n",
    "#plot_divination(iching_db, \"Will I pass Sciprog exam?\", '111011') # Small Harvest\n",
    "#plot_divination(iching_db, \"Will I pass Sciprog exam?\",'001011')  # Infiltrating"
   ]
  },
  {
   "cell_type": "markdown",
   "metadata": {},
   "source": [
    "## Part B\n",
    "\n",
    "* Open Visual Studio Code and start editing the folder on your desktop"
   ]
  },
  {
   "cell_type": "markdown",
   "metadata": {},
   "source": [
    "## B1 Theory\n",
    "\n",
    "**Write the solution in separate `theory.txt` file**"
   ]
  },
  {
   "cell_type": "markdown",
   "metadata": {},
   "source": [
    "### B1.1 Complexity\n",
    "\n",
    "**1.A:** Given a list `L` of $n$ elements, please compute the asymptotic computational complexity of the `my_fun` function, explaining your reasoning.\n",
    " \n",
    "\n",
    "```python\n",
    "def my_fun(L):\n",
    "    tmp = [1 for x in L]\n",
    "    n = sum(tmp)\n",
    "\n",
    "    for i in range(1, int(n/2)+1):\n",
    "        if L[i-1] != L[-i]:\n",
    "            return False\n",
    "        else:\n",
    "            return True\n",
    "```\n",
    "\n",
    "**1.B:** Do you have any idea to improve this code a little bit? "
   ]
  },
  {
   "cell_type": "markdown",
   "metadata": {},
   "source": [
    "### B1.2 nlogn\n",
    "\n",
    "What do we mean when we say that an algorithm has asymptotic computational complexity $O(n logn)$? What do we have to do to prove that an algorithm has asymptotic computational complexity $O(nlogn)$? "
   ]
  },
  {
   "cell_type": "markdown",
   "metadata": {},
   "source": [
    "## B2 Train race\n",
    "\n",
    "An important train race is taking place in Steam Land. Each train has a length and a velocity. A train is represented as a sequence of asterisks. A _train path_ is a list which holds all the train asterisks, and, if the train has moved _m_ positions so far, the path also holds _m_ dashes `-` before the asterisks. \n",
    "\n",
    "Open the file `train_race.py` and implement methods from class `TrainRace`, in particular:"
   ]
  },
  {
   "cell_type": "code",
   "execution_count": 7,
   "metadata": {},
   "outputs": [
    {
     "name": "stdout",
     "output_type": "stream",
     "text": [
      "def step(self):\n",
      "    \"\"\" Steps the simulation by moving each train toward right \n",
      "        by a number of cells given by its velocity.            \n",
      "        \n",
      "                    \n",
      "        *** MUST run in O(v) where v is the sum of all velocities     \n",
      "        \n",
      "        *** Complexity MUST *NOT* depend on train length nor dashes length\n",
      "        \n",
      "        *** For simplicity, ASSUME velocity is always \n",
      "            less or equal than train length                 \n",
      "        \n",
      "        ********      HAVE YOU READ THE REQUIREMENTS ABOVE ?   ********\n",
      "    \"\"\"\n"
     ]
    }
   ],
   "source": []
  },
  {
   "cell_type": "markdown",
   "metadata": {},
   "source": [
    "<div class=\"alert alert-warning\">\n",
    "    \n",
    "**WARNING: AVOID EXPENSIVE LIST METHODS / OPERATORS**    \n",
    "    \n",
    "Passing tests is easy, the hard part is to make it _fast_: will your program run fast with a train of one million asterisks? And with a train which made a million steps?\n",
    "    \n",
    "</div>"
   ]
  },
  {
   "cell_type": "markdown",
   "metadata": {},
   "source": [
    "**Testing**: `python3 -m unittest train_race_test.VelocityLessOrEqualThanTrainSizeTest`\n",
    "\n",
    "**Extra** (not required during the exam): make it work also when velocity can be greater than train size, then test with: \n",
    "\n",
    "`python3 -m unittest train_race_test.VelocityGreaterThanTrainSizeTest`\n",
    "\n",
    "**Example**:"
   ]
  },
  {
   "cell_type": "code",
   "execution_count": 8,
   "metadata": {},
   "outputs": [],
   "source": [
    "from train_race_sol import * \n",
    "\n",
    "       #train  lengths     velocities\n",
    "tr = TrainRace([5,3,6,3],  [2,1,3,2])"
   ]
  },
  {
   "cell_type": "code",
   "execution_count": 9,
   "metadata": {},
   "outputs": [
    {
     "data": {
      "text/plain": [
       "[['*', '*', '*', '*', '*'],\n",
       " ['*', '*', '*'],\n",
       " ['*', '*', '*', '*', '*', '*'],\n",
       " ['*', '*', '*']]"
      ]
     },
     "execution_count": 9,
     "metadata": {},
     "output_type": "execute_result"
    }
   ],
   "source": [
    "tr.get_paths()"
   ]
  },
  {
   "cell_type": "code",
   "execution_count": 10,
   "metadata": {},
   "outputs": [],
   "source": [
    "tr.step()   # returns NOTHING!"
   ]
  },
  {
   "cell_type": "code",
   "execution_count": 11,
   "metadata": {},
   "outputs": [
    {
     "data": {
      "text/plain": [
       "[['-', '-', '*', '*', '*', '*', '*'],\n",
       " ['-', '*', '*', '*'],\n",
       " ['-', '-', '-', '*', '*', '*', '*', '*', '*'],\n",
       " ['-', '-', '*', '*', '*']]"
      ]
     },
     "execution_count": 11,
     "metadata": {},
     "output_type": "execute_result"
    }
   ],
   "source": [
    "tr.get_paths()"
   ]
  },
  {
   "cell_type": "code",
   "execution_count": 12,
   "metadata": {},
   "outputs": [],
   "source": [
    "tr.step()"
   ]
  },
  {
   "cell_type": "code",
   "execution_count": 13,
   "metadata": {},
   "outputs": [
    {
     "data": {
      "text/plain": [
       "[['-', '-', '-', '-', '*', '*', '*', '*', '*'],\n",
       " ['-', '-', '*', '*', '*'],\n",
       " ['-', '-', '-', '-', '-', '-', '*', '*', '*', '*', '*', '*'],\n",
       " ['-', '-', '-', '-', '*', '*', '*']]"
      ]
     },
     "execution_count": 13,
     "metadata": {},
     "output_type": "execute_result"
    }
   ],
   "source": [
    "tr.get_paths()"
   ]
  },
  {
   "cell_type": "markdown",
   "metadata": {},
   "source": [
    "## B3 linked algebra\n",
    "\n",
    "Open `linked_list.py` and edit this method:"
   ]
  },
  {
   "cell_type": "code",
   "execution_count": 14,
   "metadata": {},
   "outputs": [
    {
     "name": "stdout",
     "output_type": "stream",
     "text": [
      "def linalg(self):\n",
      "    \"\"\" Assume nodes hold data as a string \"kc\" where k is a single digit \n",
      "        and c any character.\n",
      "        \n",
      "        MODIFY the linked list by stripping the k from original nodes, \n",
      "        and inserting k-1 new nodes next to each node.\n",
      "                \n",
      "        - ASSUME every k is >= 1\n",
      "        - MUST execute in O(s) where s is the sum of all k found.\n",
      "    \"\"\"\n"
     ]
    }
   ],
   "source": []
  },
  {
   "cell_type": "markdown",
   "metadata": {},
   "source": [
    "**Testing**: `python3 -m unittest linked_list_test`\n",
    "\n",
    "**Example:**"
   ]
  },
  {
   "cell_type": "code",
   "execution_count": 15,
   "metadata": {},
   "outputs": [
    {
     "name": "stdout",
     "output_type": "stream",
     "text": [
      "LinkedList: 3a,5b,2c\n"
     ]
    }
   ],
   "source": [
    "from linked_list_sol import *\n",
    "\n",
    "ll = LinkedList()\n",
    "\n",
    "ll.add('2c')\n",
    "ll.add('5b')\n",
    "ll.add('3a')\n",
    "\n",
    "print(ll)"
   ]
  },
  {
   "cell_type": "code",
   "execution_count": 16,
   "metadata": {},
   "outputs": [],
   "source": [
    "ll.linalg()   # returns NOTHING!"
   ]
  },
  {
   "cell_type": "code",
   "execution_count": 17,
   "metadata": {},
   "outputs": [
    {
     "name": "stdout",
     "output_type": "stream",
     "text": [
      "LinkedList: a,a,a,b,b,b,b,b,c,c\n"
     ]
    }
   ],
   "source": [
    "print(ll)"
   ]
  },
  {
   "cell_type": "markdown",
   "metadata": {},
   "source": [
    "with 3 nodes modified and 7 new nodes inserted"
   ]
  },
  {
   "cell_type": "code",
   "execution_count": 18,
   "metadata": {
    "nbsphinx": "hidden"
   },
   "outputs": [],
   "source": []
  }
 ],
 "metadata": {
  "celltoolbar": "Edit Metadata",
  "kernelspec": {
   "display_name": "Python 3",
   "language": "python",
   "name": "python3"
  },
  "language_info": {
   "codemirror_mode": {
    "name": "ipython",
    "version": 3
   },
   "file_extension": ".py",
   "mimetype": "text/x-python",
   "name": "python",
   "nbconvert_exporter": "python",
   "pygments_lexer": "ipython3",
   "version": "3.7.11"
  },
  "toc": {
   "base_numbering": 1,
   "nav_menu": {},
   "number_sections": false,
   "sideBar": true,
   "skip_h1_title": false,
   "title_cell": "Table of Contents",
   "title_sidebar": "Contents",
   "toc_cell": false,
   "toc_position": {},
   "toc_section_display": true,
   "toc_window_display": true
  }
 },
 "nbformat": 4,
 "nbformat_minor": 1
}
